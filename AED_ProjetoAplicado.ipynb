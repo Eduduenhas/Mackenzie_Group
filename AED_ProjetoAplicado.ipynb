{
  "nbformat": 4,
  "nbformat_minor": 0,
  "metadata": {
    "colab": {
      "provenance": [],
      "authorship_tag": "ABX9TyP1FBJN63olOOoFJIHEctME",
      "include_colab_link": true
    },
    "kernelspec": {
      "name": "ir",
      "display_name": "R"
    },
    "language_info": {
      "name": "R"
    }
  },
  "cells": [
    {
      "cell_type": "markdown",
      "metadata": {
        "id": "view-in-github",
        "colab_type": "text"
      },
      "source": [
        "<a href=\"https://colab.research.google.com/github/Eduduenhas/analysis_sdg-index/blob/Project-data/AED_ProjetoAplicado.ipynb\" target=\"_parent\"><img src=\"https://colab.research.google.com/assets/colab-badge.svg\" alt=\"Open In Colab\"/></a>"
      ]
    },
    {
      "cell_type": "code",
      "execution_count": 15,
      "metadata": {
        "colab": {
          "base_uri": "https://localhost:8080/",
          "height": 306
        },
        "id": "bFdMy643CHp0",
        "outputId": "80150383-e4a2-4dca-d1d7-58d7edd04160"
      },
      "outputs": [
        {
          "output_type": "display_data",
          "data": {
            "text/html": [
              "<table class=\"dataframe\">\n",
              "<caption>A data.frame: 6 × 14</caption>\n",
              "<thead>\n",
              "\t<tr><th></th><th scope=col>Codigo_Pais_ISO3</th><th scope=col>Pais</th><th scope=col>Ano</th><th scope=col>Populacao</th><th scope=col>Regiao</th><th scope=col>Grupo_Renda</th><th scope=col>Pontuacao_ODS_12</th><th scope=col>Pontuacao_Residuos_Solidos_Urbanos</th><th scope=col>Pontuacao_Residuos_Eletrônicos</th><th scope=col>Pontuacao_Emissoes_SO2_Producao</th><th scope=col>Pontuacao_Emissoes_SO2_Importacoes</th><th scope=col>Pontuacao_Emissoes_Nitrogenio_Producao</th><th scope=col>Pontuacao_Emissoes_Nitrogenio_Importacao</th><th scope=col>Pontuacao_Exportacoes_Residuos_Plasticos</th></tr>\n",
              "\t<tr><th></th><th scope=col>&lt;chr&gt;</th><th scope=col>&lt;chr&gt;</th><th scope=col>&lt;int&gt;</th><th scope=col>&lt;int&gt;</th><th scope=col>&lt;chr&gt;</th><th scope=col>&lt;chr&gt;</th><th scope=col>&lt;dbl&gt;</th><th scope=col>&lt;dbl&gt;</th><th scope=col>&lt;dbl&gt;</th><th scope=col>&lt;dbl&gt;</th><th scope=col>&lt;dbl&gt;</th><th scope=col>&lt;dbl&gt;</th><th scope=col>&lt;dbl&gt;</th><th scope=col>&lt;dbl&gt;</th></tr>\n",
              "</thead>\n",
              "<tbody>\n",
              "\t<tr><th scope=row>1</th><td>AFG</td><td>Afghanistan</td><td>2000</td><td>20779957</td><td>E_Euro_Asia</td><td>LIC</td><td>97.8</td><td>90.7</td><td>98.8</td><td>99.7</td><td>99.5</td><td>95.9</td><td>99.7</td><td>100</td></tr>\n",
              "\t<tr><th scope=row>2</th><td>AFG</td><td>Afghanistan</td><td>2001</td><td>21606992</td><td>E_Euro_Asia</td><td>LIC</td><td>97.8</td><td>90.7</td><td>98.8</td><td>99.7</td><td>99.5</td><td>95.9</td><td>99.7</td><td>100</td></tr>\n",
              "\t<tr><th scope=row>3</th><td>AFG</td><td>Afghanistan</td><td>2002</td><td>22600774</td><td>E_Euro_Asia</td><td>LIC</td><td>97.8</td><td>90.7</td><td>98.8</td><td>99.7</td><td>99.5</td><td>95.9</td><td>99.7</td><td>100</td></tr>\n",
              "\t<tr><th scope=row>4</th><td>AFG</td><td>Afghanistan</td><td>2003</td><td>23680871</td><td>E_Euro_Asia</td><td>LIC</td><td>97.8</td><td>90.7</td><td>98.8</td><td>99.7</td><td>99.5</td><td>95.9</td><td>99.7</td><td>100</td></tr>\n",
              "\t<tr><th scope=row>5</th><td>AFG</td><td>Afghanistan</td><td>2004</td><td>24726689</td><td>E_Euro_Asia</td><td>LIC</td><td>97.8</td><td>90.7</td><td>98.8</td><td>99.7</td><td>99.5</td><td>95.9</td><td>99.7</td><td>100</td></tr>\n",
              "\t<tr><th scope=row>6</th><td>AFG</td><td>Afghanistan</td><td>2005</td><td>25654274</td><td>E_Euro_Asia</td><td>LIC</td><td>97.8</td><td>90.7</td><td>98.8</td><td>99.7</td><td>99.5</td><td>95.9</td><td>99.7</td><td>100</td></tr>\n",
              "</tbody>\n",
              "</table>\n"
            ],
            "text/markdown": "\nA data.frame: 6 × 14\n\n| <!--/--> | Codigo_Pais_ISO3 &lt;chr&gt; | Pais &lt;chr&gt; | Ano &lt;int&gt; | Populacao &lt;int&gt; | Regiao &lt;chr&gt; | Grupo_Renda &lt;chr&gt; | Pontuacao_ODS_12 &lt;dbl&gt; | Pontuacao_Residuos_Solidos_Urbanos &lt;dbl&gt; | Pontuacao_Residuos_Eletrônicos &lt;dbl&gt; | Pontuacao_Emissoes_SO2_Producao &lt;dbl&gt; | Pontuacao_Emissoes_SO2_Importacoes &lt;dbl&gt; | Pontuacao_Emissoes_Nitrogenio_Producao &lt;dbl&gt; | Pontuacao_Emissoes_Nitrogenio_Importacao &lt;dbl&gt; | Pontuacao_Exportacoes_Residuos_Plasticos &lt;dbl&gt; |\n|---|---|---|---|---|---|---|---|---|---|---|---|---|---|---|\n| 1 | AFG | Afghanistan | 2000 | 20779957 | E_Euro_Asia | LIC | 97.8 | 90.7 | 98.8 | 99.7 | 99.5 | 95.9 | 99.7 | 100 |\n| 2 | AFG | Afghanistan | 2001 | 21606992 | E_Euro_Asia | LIC | 97.8 | 90.7 | 98.8 | 99.7 | 99.5 | 95.9 | 99.7 | 100 |\n| 3 | AFG | Afghanistan | 2002 | 22600774 | E_Euro_Asia | LIC | 97.8 | 90.7 | 98.8 | 99.7 | 99.5 | 95.9 | 99.7 | 100 |\n| 4 | AFG | Afghanistan | 2003 | 23680871 | E_Euro_Asia | LIC | 97.8 | 90.7 | 98.8 | 99.7 | 99.5 | 95.9 | 99.7 | 100 |\n| 5 | AFG | Afghanistan | 2004 | 24726689 | E_Euro_Asia | LIC | 97.8 | 90.7 | 98.8 | 99.7 | 99.5 | 95.9 | 99.7 | 100 |\n| 6 | AFG | Afghanistan | 2005 | 25654274 | E_Euro_Asia | LIC | 97.8 | 90.7 | 98.8 | 99.7 | 99.5 | 95.9 | 99.7 | 100 |\n\n",
            "text/latex": "A data.frame: 6 × 14\n\\begin{tabular}{r|llllllllllllll}\n  & Codigo\\_Pais\\_ISO3 & Pais & Ano & Populacao & Regiao & Grupo\\_Renda & Pontuacao\\_ODS\\_12 & Pontuacao\\_Residuos\\_Solidos\\_Urbanos & Pontuacao\\_Residuos\\_Eletrônicos & Pontuacao\\_Emissoes\\_SO2\\_Producao & Pontuacao\\_Emissoes\\_SO2\\_Importacoes & Pontuacao\\_Emissoes\\_Nitrogenio\\_Producao & Pontuacao\\_Emissoes\\_Nitrogenio\\_Importacao & Pontuacao\\_Exportacoes\\_Residuos\\_Plasticos\\\\\n  & <chr> & <chr> & <int> & <int> & <chr> & <chr> & <dbl> & <dbl> & <dbl> & <dbl> & <dbl> & <dbl> & <dbl> & <dbl>\\\\\n\\hline\n\t1 & AFG & Afghanistan & 2000 & 20779957 & E\\_Euro\\_Asia & LIC & 97.8 & 90.7 & 98.8 & 99.7 & 99.5 & 95.9 & 99.7 & 100\\\\\n\t2 & AFG & Afghanistan & 2001 & 21606992 & E\\_Euro\\_Asia & LIC & 97.8 & 90.7 & 98.8 & 99.7 & 99.5 & 95.9 & 99.7 & 100\\\\\n\t3 & AFG & Afghanistan & 2002 & 22600774 & E\\_Euro\\_Asia & LIC & 97.8 & 90.7 & 98.8 & 99.7 & 99.5 & 95.9 & 99.7 & 100\\\\\n\t4 & AFG & Afghanistan & 2003 & 23680871 & E\\_Euro\\_Asia & LIC & 97.8 & 90.7 & 98.8 & 99.7 & 99.5 & 95.9 & 99.7 & 100\\\\\n\t5 & AFG & Afghanistan & 2004 & 24726689 & E\\_Euro\\_Asia & LIC & 97.8 & 90.7 & 98.8 & 99.7 & 99.5 & 95.9 & 99.7 & 100\\\\\n\t6 & AFG & Afghanistan & 2005 & 25654274 & E\\_Euro\\_Asia & LIC & 97.8 & 90.7 & 98.8 & 99.7 & 99.5 & 95.9 & 99.7 & 100\\\\\n\\end{tabular}\n",
            "text/plain": [
              "  Codigo_Pais_ISO3 Pais        Ano  Populacao Regiao      Grupo_Renda\n",
              "1 AFG              Afghanistan 2000 20779957  E_Euro_Asia LIC        \n",
              "2 AFG              Afghanistan 2001 21606992  E_Euro_Asia LIC        \n",
              "3 AFG              Afghanistan 2002 22600774  E_Euro_Asia LIC        \n",
              "4 AFG              Afghanistan 2003 23680871  E_Euro_Asia LIC        \n",
              "5 AFG              Afghanistan 2004 24726689  E_Euro_Asia LIC        \n",
              "6 AFG              Afghanistan 2005 25654274  E_Euro_Asia LIC        \n",
              "  Pontuacao_ODS_12 Pontuacao_Residuos_Solidos_Urbanos\n",
              "1 97.8             90.7                              \n",
              "2 97.8             90.7                              \n",
              "3 97.8             90.7                              \n",
              "4 97.8             90.7                              \n",
              "5 97.8             90.7                              \n",
              "6 97.8             90.7                              \n",
              "  Pontuacao_Residuos_Eletrônicos Pontuacao_Emissoes_SO2_Producao\n",
              "1 98.8                           99.7                           \n",
              "2 98.8                           99.7                           \n",
              "3 98.8                           99.7                           \n",
              "4 98.8                           99.7                           \n",
              "5 98.8                           99.7                           \n",
              "6 98.8                           99.7                           \n",
              "  Pontuacao_Emissoes_SO2_Importacoes Pontuacao_Emissoes_Nitrogenio_Producao\n",
              "1 99.5                               95.9                                  \n",
              "2 99.5                               95.9                                  \n",
              "3 99.5                               95.9                                  \n",
              "4 99.5                               95.9                                  \n",
              "5 99.5                               95.9                                  \n",
              "6 99.5                               95.9                                  \n",
              "  Pontuacao_Emissoes_Nitrogenio_Importacao\n",
              "1 99.7                                    \n",
              "2 99.7                                    \n",
              "3 99.7                                    \n",
              "4 99.7                                    \n",
              "5 99.7                                    \n",
              "6 99.7                                    \n",
              "  Pontuacao_Exportacoes_Residuos_Plasticos\n",
              "1 100                                     \n",
              "2 100                                     \n",
              "3 100                                     \n",
              "4 100                                     \n",
              "5 100                                     \n",
              "6 100                                     "
            ]
          },
          "metadata": {}
        }
      ],
      "source": [
        "df = read.csv('https://raw.githubusercontent.com/Eduduenhas/analysis_sdg-index/Project-data/Raw%20-%20RAW.csv')\n",
        "head(df)"
      ]
    },
    {
      "cell_type": "code",
      "source": [
        "nrow(df)\n",
        "\n"
      ],
      "metadata": {
        "colab": {
          "base_uri": "https://localhost:8080/",
          "height": 34
        },
        "id": "TVguw7nzEyA7",
        "outputId": "e93972de-268e-4e44-ef68-7b0a5a845fe5"
      },
      "execution_count": 16,
      "outputs": [
        {
          "output_type": "display_data",
          "data": {
            "text/html": [
              "3749"
            ],
            "text/markdown": "3749",
            "text/latex": "3749",
            "text/plain": [
              "[1] 3749"
            ]
          },
          "metadata": {}
        }
      ]
    },
    {
      "cell_type": "code",
      "source": [
        "ncol(df)\n"
      ],
      "metadata": {
        "colab": {
          "base_uri": "https://localhost:8080/",
          "height": 34
        },
        "id": "wFkAAq_VFEMg",
        "outputId": "5e596da0-d67f-46da-f4a9-d1289e262f49"
      },
      "execution_count": 17,
      "outputs": [
        {
          "output_type": "display_data",
          "data": {
            "text/html": [
              "14"
            ],
            "text/markdown": "14",
            "text/latex": "14",
            "text/plain": [
              "[1] 14"
            ]
          },
          "metadata": {}
        }
      ]
    },
    {
      "cell_type": "code",
      "source": [
        "str(df)"
      ],
      "metadata": {
        "colab": {
          "base_uri": "https://localhost:8080/"
        },
        "id": "h3T5_oX6FF1A",
        "outputId": "e9464cca-895a-4077-b80b-85ea7a3eec07"
      },
      "execution_count": 18,
      "outputs": [
        {
          "output_type": "stream",
          "name": "stdout",
          "text": [
            "'data.frame':\t3749 obs. of  14 variables:\n",
            " $ Codigo_Pais_ISO3                        : chr  \"AFG\" \"AFG\" \"AFG\" \"AFG\" ...\n",
            " $ Pais                                    : chr  \"Afghanistan\" \"Afghanistan\" \"Afghanistan\" \"Afghanistan\" ...\n",
            " $ Ano                                     : int  2000 2001 2002 2003 2004 2005 2006 2007 2008 2009 ...\n",
            " $ Populacao                               : int  20779957 21606992 22600774 23680871 24726689 25654274 26433058 27100542 27722281 28394806 ...\n",
            " $ Regiao                                  : chr  \"E_Euro_Asia\" \"E_Euro_Asia\" \"E_Euro_Asia\" \"E_Euro_Asia\" ...\n",
            " $ Grupo_Renda                             : chr  \"LIC\" \"LIC\" \"LIC\" \"LIC\" ...\n",
            " $ Pontuacao_ODS_12                        : num  97.8 97.8 97.8 97.8 97.8 97.8 97.8 97.8 97.8 97.8 ...\n",
            " $ Pontuacao_Residuos_Solidos_Urbanos      : num  90.7 90.7 90.7 90.7 90.7 90.7 90.7 90.7 90.7 90.7 ...\n",
            " $ Pontuacao_Residuos_Eletrônicos          : num  98.8 98.8 98.8 98.8 98.8 98.8 98.8 98.8 98.8 98.8 ...\n",
            " $ Pontuacao_Emissoes_SO2_Producao         : num  99.7 99.7 99.7 99.7 99.7 99.7 99.7 99.7 99.7 99.7 ...\n",
            " $ Pontuacao_Emissoes_SO2_Importacoes      : num  99.5 99.5 99.5 99.5 99.5 99.5 99.5 99.5 99.5 99.5 ...\n",
            " $ Pontuacao_Emissoes_Nitrogenio_Producao  : num  95.9 95.9 95.9 95.9 95.9 95.9 95.9 95.9 95.9 95.9 ...\n",
            " $ Pontuacao_Emissoes_Nitrogenio_Importacao: num  99.7 99.7 99.7 99.7 99.7 99.7 99.7 99.7 99.7 99.7 ...\n",
            " $ Pontuacao_Exportacoes_Residuos_Plasticos: num  100 100 100 100 100 100 100 100 100 100 ...\n"
          ]
        }
      ]
    },
    {
      "cell_type": "code",
      "source": [
        "summary(df)"
      ],
      "metadata": {
        "colab": {
          "base_uri": "https://localhost:8080/",
          "height": 989
        },
        "id": "3aKdS_KPHmSZ",
        "outputId": "7a4fea9a-e4e4-404a-f79c-9dbe01bf5345"
      },
      "execution_count": 19,
      "outputs": [
        {
          "output_type": "display_data",
          "data": {
            "text/plain": [
              " Codigo_Pais_ISO3       Pais                Ano         Populacao        \n",
              " Length:3749        Length:3749        Min.   :2000   Min.   :1.423e+05  \n",
              " Class :character   Class :character   1st Qu.:2005   1st Qu.:4.017e+06  \n",
              " Mode  :character   Mode  :character   Median :2011   Median :1.011e+07  \n",
              "                                       Mean   :2011   Mean   :4.270e+07  \n",
              "                                       3rd Qu.:2017   3rd Qu.:2.987e+07  \n",
              "                                       Max.   :2022   Max.   :1.448e+09  \n",
              "                                                                         \n",
              "    Regiao          Grupo_Renda        Pontuacao_ODS_12\n",
              " Length:3749        Length:3749        Min.   :39.0    \n",
              " Class :character   Class :character   1st Qu.:74.4    \n",
              " Mode  :character   Mode  :character   Median :88.0    \n",
              "                                       Mean   :83.9    \n",
              "                                       3rd Qu.:95.4    \n",
              "                                       Max.   :98.8    \n",
              "                                                       \n",
              " Pontuacao_Residuos_Solidos_Urbanos Pontuacao_Residuos_Eletrônicos\n",
              " Min.   : 28.4                      Min.   : 0.00                 \n",
              " 1st Qu.: 68.3                      1st Qu.:49.10                 \n",
              " Median : 80.2                      Median :72.50                 \n",
              " Mean   : 77.3                      Mean   :65.69                 \n",
              " 3rd Qu.: 90.0                      3rd Qu.:92.90                 \n",
              " Max.   :100.0                      Max.   :99.30                 \n",
              " NA's   :138                        NA's   :184                   \n",
              " Pontuacao_Emissoes_SO2_Producao Pontuacao_Emissoes_SO2_Importacoes\n",
              " Min.   : 70.50                  Min.   : 31.90                    \n",
              " 1st Qu.: 97.08                  1st Qu.: 84.38                    \n",
              " Median : 98.45                  Median : 95.35                    \n",
              " Mean   : 97.64                  Mean   : 89.56                    \n",
              " 3rd Qu.: 99.60                  3rd Qu.: 98.22                    \n",
              " Max.   :100.00                  Max.   :100.00                    \n",
              " NA's   :253                     NA's   :253                       \n",
              " Pontuacao_Emissoes_Nitrogenio_Producao\n",
              " Min.   :  0.00                        \n",
              " 1st Qu.: 87.40                        \n",
              " Median : 92.30                        \n",
              " Mean   : 88.82                        \n",
              " 3rd Qu.: 96.00                        \n",
              " Max.   :100.00                        \n",
              "                                       \n",
              " Pontuacao_Emissoes_Nitrogenio_Importacao\n",
              " Min.   :  0.00                          \n",
              " 1st Qu.: 85.30                          \n",
              " Median : 95.40                          \n",
              " Mean   : 89.18                          \n",
              " 3rd Qu.: 99.10                          \n",
              " Max.   :100.00                          \n",
              "                                         \n",
              " Pontuacao_Exportacoes_Residuos_Plasticos\n",
              " Min.   :  0.00                          \n",
              " 1st Qu.: 81.60                          \n",
              " Median : 96.60                          \n",
              " Mean   : 82.65                          \n",
              " 3rd Qu.: 99.70                          \n",
              " Max.   :100.00                          \n",
              " NA's   :460                             "
            ]
          },
          "metadata": {}
        }
      ]
    },
    {
      "cell_type": "code",
      "source": [
        "unique_years <- unique(df$Ano)\n",
        "\n",
        "for (i in 1:length(unique_years)) {\n",
        "  year_mean <- mean(df[df$Ano == unique_years[i], \"Pontuacao_ODS_12\"], na.rm = TRUE)\n",
        "  print(paste( unique_years[i], \":\", year_mean))\n",
        "}"
      ],
      "metadata": {
        "colab": {
          "base_uri": "https://localhost:8080/"
        },
        "id": "BTNE1y2GUB3X",
        "outputId": "4d6345cd-a894-4efd-f53e-cd1f2f6d54a5"
      },
      "execution_count": 48,
      "outputs": [
        {
          "output_type": "stream",
          "name": "stdout",
          "text": [
            "[1] \"2000 : 84.9411042944785\"\n",
            "[1] \"2001 : 84.9411042944785\"\n",
            "[1] \"2002 : 84.9411042944785\"\n",
            "[1] \"2003 : 84.9411042944785\"\n",
            "[1] \"2004 : 84.9411042944785\"\n",
            "[1] \"2005 : 84.9411042944785\"\n",
            "[1] \"2006 : 84.9411042944785\"\n",
            "[1] \"2007 : 84.9411042944785\"\n",
            "[1] \"2008 : 84.9411042944785\"\n",
            "[1] \"2009 : 84.9411042944785\"\n",
            "[1] \"2010 : 84.9411042944785\"\n",
            "[1] \"2011 : 84.9337423312883\"\n",
            "[1] \"2012 : 84.7889570552147\"\n",
            "[1] \"2013 : 84.7503067484663\"\n",
            "[1] \"2014 : 84.5858895705521\"\n",
            "[1] \"2015 : 84.419018404908\"\n",
            "[1] \"2016 : 84.3165644171779\"\n",
            "[1] \"2017 : 84.2184049079755\"\n",
            "[1] \"2018 : 84.1257668711656\"\n",
            "[1] \"2019 : 84.0441717791411\"\n",
            "[1] \"2020 : 84.0441717791411\"\n",
            "[1] \"2021 : 84.0441717791411\"\n",
            "[1] \"2022 : 67.1693251533742\"\n"
          ]
        }
      ]
    },
    {
      "cell_type": "code",
      "source": [
        "unique_years <- unique(df$Ano)\n",
        "\n",
        "for (i in 1:length(unique_years)) {\n",
        "  year_mean <- mean(df[df$Ano == unique_years[i], \"Pontuacao_Residuos_Solidos_Urbanos\"], na.rm = TRUE)\n",
        "  print(paste( unique_years[i], \":\", year_mean))\n",
        "}"
      ],
      "metadata": {
        "colab": {
          "base_uri": "https://localhost:8080/"
        },
        "id": "ojvs76bLcJQA",
        "outputId": "ff98f6be-4cb5-432d-e64d-cdb0ca3548e3"
      },
      "execution_count": 49,
      "outputs": [
        {
          "output_type": "stream",
          "name": "stdout",
          "text": [
            "[1] \"2000 : 77.2993630573248\"\n",
            "[1] \"2001 : 77.2993630573248\"\n",
            "[1] \"2002 : 77.2993630573248\"\n",
            "[1] \"2003 : 77.2993630573248\"\n",
            "[1] \"2004 : 77.2993630573248\"\n",
            "[1] \"2005 : 77.2993630573248\"\n",
            "[1] \"2006 : 77.2993630573248\"\n",
            "[1] \"2007 : 77.2993630573248\"\n",
            "[1] \"2008 : 77.2993630573248\"\n",
            "[1] \"2009 : 77.2993630573248\"\n",
            "[1] \"2010 : 77.2993630573248\"\n",
            "[1] \"2011 : 77.2993630573248\"\n",
            "[1] \"2012 : 77.2993630573248\"\n",
            "[1] \"2013 : 77.2993630573248\"\n",
            "[1] \"2014 : 77.2993630573248\"\n",
            "[1] \"2015 : 77.2993630573248\"\n",
            "[1] \"2016 : 77.2993630573248\"\n",
            "[1] \"2017 : 77.2993630573248\"\n",
            "[1] \"2018 : 77.2993630573248\"\n",
            "[1] \"2019 : 77.2993630573248\"\n",
            "[1] \"2020 : 77.2993630573248\"\n",
            "[1] \"2021 : 77.2993630573248\"\n",
            "[1] \"2022 : 77.2993630573248\"\n"
          ]
        }
      ]
    },
    {
      "cell_type": "code",
      "source": [
        "unique_years <- unique(df$Ano)\n",
        "\n",
        "for (i in 1:length(unique_years)) {\n",
        "  year_mean <- mean(df[df$Ano == unique_years[i], \"Pontuacao_Residuos_Eletrônicos\"], na.rm = TRUE)\n",
        "  print(paste( unique_years[i], \":\", year_mean))\n",
        "}"
      ],
      "metadata": {
        "colab": {
          "base_uri": "https://localhost:8080/"
        },
        "id": "xVV0dsZiUPyY",
        "outputId": "25cf9227-ee93-447b-f84d-3c4595d2a196"
      },
      "execution_count": 50,
      "outputs": [
        {
          "output_type": "stream",
          "name": "stdout",
          "text": [
            "[1] \"2000 : 66.32\"\n",
            "[1] \"2001 : 66.32\"\n",
            "[1] \"2002 : 66.32\"\n",
            "[1] \"2003 : 66.32\"\n",
            "[1] \"2004 : 66.32\"\n",
            "[1] \"2005 : 66.32\"\n",
            "[1] \"2006 : 66.32\"\n",
            "[1] \"2007 : 66.32\"\n",
            "[1] \"2008 : 66.32\"\n",
            "[1] \"2009 : 66.32\"\n",
            "[1] \"2010 : 66.32\"\n",
            "[1] \"2011 : 66.32\"\n",
            "[1] \"2012 : 66.32\"\n",
            "[1] \"2013 : 66.32\"\n",
            "[1] \"2014 : 66.32\"\n",
            "[1] \"2015 : 66.32\"\n",
            "[1] \"2016 : 65.6006451612903\"\n",
            "[1] \"2017 : 64.9290322580645\"\n",
            "[1] \"2018 : 64.301935483871\"\n",
            "[1] \"2019 : 63.7122580645161\"\n",
            "[1] \"2020 : 63.7122580645161\"\n",
            "[1] \"2021 : 63.7122580645161\"\n",
            "[1] \"2022 : 63.7122580645161\"\n"
          ]
        }
      ]
    },
    {
      "cell_type": "code",
      "source": [
        "unique_years <- unique(df$Ano)\n",
        "\n",
        "for (i in 1:length(unique_years)) {\n",
        "  year_mean <- mean(df[df$Ano == unique_years[i], \"Pontuacao_Emissoes_SO2_Importacoes\"], na.rm = TRUE)\n",
        "  print(paste( unique_years[i], \":\", year_mean))\n",
        "}"
      ],
      "metadata": {
        "colab": {
          "base_uri": "https://localhost:8080/"
        },
        "id": "52KUDEgAciSJ",
        "outputId": "de2a073a-3e3f-4481-cfb7-b9d49d92ce6c"
      },
      "execution_count": 52,
      "outputs": [
        {
          "output_type": "stream",
          "name": "stdout",
          "text": [
            "[1] \"2000 : 89.5598684210526\"\n",
            "[1] \"2001 : 89.5598684210526\"\n",
            "[1] \"2002 : 89.5598684210526\"\n",
            "[1] \"2003 : 89.5598684210526\"\n",
            "[1] \"2004 : 89.5598684210526\"\n",
            "[1] \"2005 : 89.5598684210526\"\n",
            "[1] \"2006 : 89.5598684210526\"\n",
            "[1] \"2007 : 89.5598684210526\"\n",
            "[1] \"2008 : 89.5598684210526\"\n",
            "[1] \"2009 : 89.5598684210526\"\n",
            "[1] \"2010 : 89.5598684210526\"\n",
            "[1] \"2011 : 89.5598684210526\"\n",
            "[1] \"2012 : 89.5598684210526\"\n",
            "[1] \"2013 : 89.5598684210526\"\n",
            "[1] \"2014 : 89.5598684210526\"\n",
            "[1] \"2015 : 89.5598684210526\"\n",
            "[1] \"2016 : 89.5598684210526\"\n",
            "[1] \"2017 : 89.5598684210526\"\n",
            "[1] \"2018 : 89.5598684210526\"\n",
            "[1] \"2019 : 89.5598684210526\"\n",
            "[1] \"2020 : 89.5598684210526\"\n",
            "[1] \"2021 : 89.5598684210526\"\n",
            "[1] \"2022 : 89.5598684210526\"\n"
          ]
        }
      ]
    },
    {
      "cell_type": "code",
      "source": [
        "unique_years <- unique(df$Ano)\n",
        "\n",
        "for (i in 1:length(unique_years)) {\n",
        "  year_mean <- mean(df[df$Ano == unique_years[i], \"Pontuacao_Emissoes_Nitrogenio_Producao\"], na.rm = TRUE)\n",
        "  print(paste( unique_years[i], \":\", year_mean))\n",
        "}"
      ],
      "metadata": {
        "colab": {
          "base_uri": "https://localhost:8080/"
        },
        "id": "iDrY0fzXc1Vy",
        "outputId": "89cbc4c8-5ad1-4fe9-86f3-54999aa7a9c1"
      },
      "execution_count": 53,
      "outputs": [
        {
          "output_type": "stream",
          "name": "stdout",
          "text": [
            "[1] \"2000 : 89.6355828220859\"\n",
            "[1] \"2001 : 89.6355828220859\"\n",
            "[1] \"2002 : 89.6355828220859\"\n",
            "[1] \"2003 : 89.6355828220859\"\n",
            "[1] \"2004 : 89.6355828220859\"\n",
            "[1] \"2005 : 89.6355828220859\"\n",
            "[1] \"2006 : 89.6355828220859\"\n",
            "[1] \"2007 : 89.6355828220859\"\n",
            "[1] \"2008 : 89.6355828220859\"\n",
            "[1] \"2009 : 89.6355828220859\"\n",
            "[1] \"2010 : 89.6355828220859\"\n",
            "[1] \"2011 : 89.7736196319018\"\n",
            "[1] \"2012 : 89.198773006135\"\n",
            "[1] \"2013 : 89.1006134969325\"\n",
            "[1] \"2014 : 88.3963190184049\"\n",
            "[1] \"2015 : 87.5601226993865\"\n",
            "[1] \"2016 : 87.5601226993865\"\n",
            "[1] \"2017 : 87.5601226993865\"\n",
            "[1] \"2018 : 87.5601226993865\"\n",
            "[1] \"2019 : 87.5601226993865\"\n",
            "[1] \"2020 : 87.5601226993865\"\n",
            "[1] \"2021 : 87.5601226993865\"\n",
            "[1] \"2022 : 87.5601226993865\"\n"
          ]
        }
      ]
    },
    {
      "cell_type": "code",
      "source": [
        "unique_years <- unique(df$Ano)\n",
        "\n",
        "for (i in 1:length(unique_years)) {\n",
        "  year_mean <- mean(df[df$Ano == unique_years[i], \"Pontuacao_Emissoes_Nitrogenio_Importacao\"], na.rm = TRUE)\n",
        "  print(paste( unique_years[i], \":\", year_mean))\n",
        "}"
      ],
      "metadata": {
        "colab": {
          "base_uri": "https://localhost:8080/"
        },
        "id": "UeQtiBarc8i7",
        "outputId": "029428d7-17b2-479a-956b-ec900451034e"
      },
      "execution_count": 54,
      "outputs": [
        {
          "output_type": "stream",
          "name": "stdout",
          "text": [
            "[1] \"2000 : 89.7625766871166\"\n",
            "[1] \"2001 : 89.7625766871166\"\n",
            "[1] \"2002 : 89.7625766871166\"\n",
            "[1] \"2003 : 89.7625766871166\"\n",
            "[1] \"2004 : 89.7625766871166\"\n",
            "[1] \"2005 : 89.7625766871166\"\n",
            "[1] \"2006 : 89.7625766871166\"\n",
            "[1] \"2007 : 89.7625766871166\"\n",
            "[1] \"2008 : 89.7625766871166\"\n",
            "[1] \"2009 : 89.7625766871166\"\n",
            "[1] \"2010 : 89.7625766871166\"\n",
            "[1] \"2011 : 89.5153374233129\"\n",
            "[1] \"2012 : 89.2601226993865\"\n",
            "[1] \"2013 : 89.0644171779141\"\n",
            "[1] \"2014 : 88.6742331288344\"\n",
            "[1] \"2015 : 88.4098159509202\"\n",
            "[1] \"2016 : 88.4098159509202\"\n",
            "[1] \"2017 : 88.4098159509202\"\n",
            "[1] \"2018 : 88.4098159509202\"\n",
            "[1] \"2019 : 88.4098159509202\"\n",
            "[1] \"2020 : 88.4098159509202\"\n",
            "[1] \"2021 : 88.4098159509202\"\n",
            "[1] \"2022 : 88.4098159509202\"\n"
          ]
        }
      ]
    },
    {
      "cell_type": "code",
      "source": [
        "unique_years <- unique(df$Ano)\n",
        "\n",
        "for (i in 1:length(unique_years)) {\n",
        "  year_mean <- mean(df[df$Ano == unique_years[i], \"Pontuacao_Exportacoes_Residuos_Plasticos\"], na.rm = TRUE)\n",
        "  print(paste( unique_years[i], \":\", year_mean))\n",
        "}"
      ],
      "metadata": {
        "colab": {
          "base_uri": "https://localhost:8080/"
        },
        "id": "gc1-hjoBdBLe",
        "outputId": "895ede43-5bbc-471e-b0ce-377be1a3aea9"
      },
      "execution_count": 55,
      "outputs": [
        {
          "output_type": "stream",
          "name": "stdout",
          "text": [
            "[1] \"2000 : 82.6524475524476\"\n",
            "[1] \"2001 : 82.6524475524476\"\n",
            "[1] \"2002 : 82.6524475524476\"\n",
            "[1] \"2003 : 82.6524475524476\"\n",
            "[1] \"2004 : 82.6524475524476\"\n",
            "[1] \"2005 : 82.6524475524476\"\n",
            "[1] \"2006 : 82.6524475524476\"\n",
            "[1] \"2007 : 82.6524475524476\"\n",
            "[1] \"2008 : 82.6524475524476\"\n",
            "[1] \"2009 : 82.6524475524476\"\n",
            "[1] \"2010 : 82.6524475524476\"\n",
            "[1] \"2011 : 82.6524475524476\"\n",
            "[1] \"2012 : 82.6524475524476\"\n",
            "[1] \"2013 : 82.6524475524476\"\n",
            "[1] \"2014 : 82.6524475524476\"\n",
            "[1] \"2015 : 82.6524475524476\"\n",
            "[1] \"2016 : 82.6524475524476\"\n",
            "[1] \"2017 : 82.6524475524476\"\n",
            "[1] \"2018 : 82.6524475524476\"\n",
            "[1] \"2019 : 82.6524475524476\"\n",
            "[1] \"2020 : 82.6524475524476\"\n",
            "[1] \"2021 : 82.6524475524476\"\n",
            "[1] \"2022 : 82.6524475524476\"\n"
          ]
        }
      ]
    },
    {
      "cell_type": "code",
      "source": [
        "unique_regions <- unique(df$Regiao)\n",
        "\n",
        "for (region in unique_regions) {\n",
        "  region_mean <- mean(df[df$Regiao == region, \"Pontuacao_ODS_12\"], na.rm = TRUE)\n",
        "  print(paste(region, \":\", region_mean))\n",
        "}"
      ],
      "metadata": {
        "colab": {
          "base_uri": "https://localhost:8080/"
        },
        "id": "ZmkmMeqSdQ88",
        "outputId": "cd555c0e-07e7-4c57-d57d-07b63fae3ca5"
      },
      "execution_count": 59,
      "outputs": [
        {
          "output_type": "stream",
          "name": "stdout",
          "text": [
            "[1] \"E_Euro_Asia : 85.6914933837429\"\n",
            "[1] \"MENA : 84.0288043478261\"\n",
            "[1] \"Africa : 93.2671385237614\"\n",
            "[1] \"LAC : 85.5717391304348\"\n",
            "[1] \"OECD : 68.545995423341\"\n",
            "[1] \"E_S_Asia : 88.4345537757437\"\n",
            "[1] \"Oceania : 91.4608695652174\"\n"
          ]
        }
      ]
    },
    {
      "cell_type": "code",
      "source": [
        "columns_to_calculate_mean <- c(\n",
        "  \"Pontuacao_ODS_12\",\n",
        "  \"Pontuacao_Residuos_Solidos_Urbanos\",\n",
        "  \"Pontuacao_Residuos_Eletrônicos\",\n",
        "  \"Pontuacao_Emissoes_SO2_Producao\",\n",
        "  \"Pontuacao_Emissoes_SO2_Importacoes\",\n",
        "  \"Pontuacao_Emissoes_Nitrogenio_Producao\",\n",
        "  \"Pontuacao_Emissoes_Nitrogenio_Importacao\",\n",
        "  \"Pontuacao_Exportacoes_Residuos_Plasticos\"\n",
        ")\n",
        "\n",
        "unique_regions <- unique(df$Regiao)\n",
        "\n",
        "for (region in unique_regions) {\n",
        "  print(paste(\"Média valores por região:\", region, \":\"))\n",
        "  for (col_name in columns_to_calculate_mean) {\n",
        "    col_mean <- mean(df[df$Regiao == region, col_name], na.rm = TRUE)\n",
        "    print(paste(\"  Média\", col_name, \":\", col_mean))\n",
        "  }\n",
        "  print(\"------------------------------\")\n",
        "}"
      ],
      "metadata": {
        "colab": {
          "base_uri": "https://localhost:8080/"
        },
        "id": "YLlDLuRGfaF4",
        "outputId": "7de014c1-529e-4368-c4da-eff1830e54ff"
      },
      "execution_count": 65,
      "outputs": [
        {
          "output_type": "stream",
          "name": "stdout",
          "text": [
            "[1] \"Média valores por região: E_Euro_Asia :\"\n",
            "[1] \"  Média Pontuacao_ODS_12 : 85.6914933837429\"\n",
            "[1] \"  Média Pontuacao_Residuos_Solidos_Urbanos : 75.2217391304348\"\n",
            "[1] \"  Média Pontuacao_Residuos_Eletrônicos : 67.184265010352\"\n",
            "[1] \"  Média Pontuacao_Emissoes_SO2_Producao : 97.1727272727273\"\n",
            "[1] \"  Média Pontuacao_Emissoes_SO2_Importacoes : 92.9818181818182\"\n",
            "[1] \"  Média Pontuacao_Emissoes_Nitrogenio_Producao : 89.861247637051\"\n",
            "[1] \"  Média Pontuacao_Emissoes_Nitrogenio_Importacao : 92.7283553875236\"\n",
            "[1] \"  Média Pontuacao_Exportacoes_Residuos_Plasticos : 87.8571428571429\"\n",
            "[1] \"------------------------------\"\n",
            "[1] \"Média valores por região: MENA :\"\n",
            "[1] \"  Média Pontuacao_ODS_12 : 84.0288043478261\"\n",
            "[1] \"  Média Pontuacao_Residuos_Solidos_Urbanos : 75.10625\"\n",
            "[1] \"  Média Pontuacao_Residuos_Eletrônicos : 61.4880434782609\"\n",
            "[1] \"  Média Pontuacao_Emissoes_SO2_Producao : 94.69375\"\n",
            "[1] \"  Média Pontuacao_Emissoes_SO2_Importacoes : 85.19375\"\n",
            "[1] \"  Média Pontuacao_Emissoes_Nitrogenio_Producao : 96.5475543478261\"\n",
            "[1] \"  Média Pontuacao_Emissoes_Nitrogenio_Importacao : 86.7529891304348\"\n",
            "[1] \"  Média Pontuacao_Exportacoes_Residuos_Plasticos : 94.4785714285714\"\n",
            "[1] \"------------------------------\"\n",
            "[1] \"Média valores por região: Africa :\"\n",
            "[1] \"  Média Pontuacao_ODS_12 : 93.2671385237614\"\n",
            "[1] \"  Média Pontuacao_Residuos_Solidos_Urbanos : 89.9\"\n",
            "[1] \"  Média Pontuacao_Residuos_Eletrônicos : 92.3198439241917\"\n",
            "[1] \"  Média Pontuacao_Emissoes_SO2_Producao : 99.3717948717949\"\n",
            "[1] \"  Média Pontuacao_Emissoes_SO2_Importacoes : 97.9589743589744\"\n",
            "[1] \"  Média Pontuacao_Emissoes_Nitrogenio_Producao : 90.9658240647118\"\n",
            "[1] \"  Média Pontuacao_Emissoes_Nitrogenio_Importacao : 97.3173913043478\"\n",
            "[1] \"  Média Pontuacao_Exportacoes_Residuos_Plasticos : 98.8485714285714\"\n",
            "[1] \"------------------------------\"\n",
            "[1] \"Média valores por região: LAC :\"\n",
            "[1] \"  Média Pontuacao_ODS_12 : 85.5717391304348\"\n",
            "[1] \"  Média Pontuacao_Residuos_Solidos_Urbanos : 78.8181818181818\"\n",
            "[1] \"  Média Pontuacao_Residuos_Eletrônicos : 70.8234782608696\"\n",
            "[1] \"  Média Pontuacao_Emissoes_SO2_Producao : 97.8444444444444\"\n",
            "[1] \"  Média Pontuacao_Emissoes_SO2_Importacoes : 95.5555555555556\"\n",
            "[1] \"  Média Pontuacao_Emissoes_Nitrogenio_Producao : 85.5466403162055\"\n",
            "[1] \"  Média Pontuacao_Emissoes_Nitrogenio_Importacao : 90.4498023715415\"\n",
            "[1] \"  Média Pontuacao_Exportacoes_Residuos_Plasticos : 93.0588235294118\"\n",
            "[1] \"------------------------------\"\n",
            "[1] \"Média valores por região: OECD :\"\n",
            "[1] \"  Média Pontuacao_ODS_12 : 68.545995423341\"\n",
            "[1] \"  Média Pontuacao_Residuos_Solidos_Urbanos : 62.5921052631579\"\n",
            "[1] \"  Média Pontuacao_Residuos_Eletrônicos : 29.8422196796339\"\n",
            "[1] \"  Média Pontuacao_Emissoes_SO2_Producao : 97.0263157894737\"\n",
            "[1] \"  Média Pontuacao_Emissoes_SO2_Importacoes : 76.8315789473684\"\n",
            "[1] \"  Média Pontuacao_Emissoes_Nitrogenio_Producao : 82.9296338672769\"\n",
            "[1] \"  Média Pontuacao_Emissoes_Nitrogenio_Importacao : 75.8312356979405\"\n",
            "[1] \"  Média Pontuacao_Exportacoes_Residuos_Plasticos : 51.3368421052632\"\n",
            "[1] \"------------------------------\"\n",
            "[1] \"Média valores por região: E_S_Asia :\"\n",
            "[1] \"  Média Pontuacao_ODS_12 : 88.4345537757437\"\n",
            "[1] \"  Média Pontuacao_Residuos_Solidos_Urbanos : 83.478947368421\"\n",
            "[1] \"  Média Pontuacao_Residuos_Eletrônicos : 76.9453089244851\"\n",
            "[1] \"  Média Pontuacao_Emissoes_SO2_Producao : 98.1166666666667\"\n",
            "[1] \"  Média Pontuacao_Emissoes_SO2_Importacoes : 91.4722222222222\"\n",
            "[1] \"  Média Pontuacao_Emissoes_Nitrogenio_Producao : 91.2263157894737\"\n",
            "[1] \"  Média Pontuacao_Emissoes_Nitrogenio_Importacao : 92.9338672768879\"\n",
            "[1] \"  Média Pontuacao_Exportacoes_Residuos_Plasticos : 92.1705882352941\"\n",
            "[1] \"------------------------------\"\n",
            "[1] \"Média valores por região: Oceania :\"\n",
            "[1] \"  Média Pontuacao_ODS_12 : 91.4608695652174\"\n",
            "[1] \"  Média Pontuacao_Residuos_Solidos_Urbanos : 89.65\"\n",
            "[1] \"  Média Pontuacao_Residuos_Eletrônicos : 86.9478260869565\"\n",
            "[1] \"  Média Pontuacao_Emissoes_SO2_Producao : 99.3\"\n",
            "[1] \"  Média Pontuacao_Emissoes_SO2_Importacoes : 97.9\"\n",
            "[1] \"  Média Pontuacao_Emissoes_Nitrogenio_Producao : 94.2434782608696\"\n",
            "[1] \"  Média Pontuacao_Emissoes_Nitrogenio_Importacao : 96.9782608695652\"\n",
            "[1] \"  Média Pontuacao_Exportacoes_Residuos_Plasticos : 92.2\"\n",
            "[1] \"------------------------------\"\n"
          ]
        }
      ]
    }
  ]
}